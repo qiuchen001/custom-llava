{
 "cells": [
  {
   "cell_type": "code",
   "execution_count": 15,
   "outputs": [],
   "source": [
    "from transformers.activations import ACT2FN\n",
    "from torch import nn\n",
    "\n",
    "class Qwen2MLPV2(nn.Module):\n",
    "    def __init__(self, config):\n",
    "        super().__init__()\n",
    "        self.hidden_size = config.hidden_size\n",
    "        self.intermediate_size = config.intermediate_size\n",
    "        self.gate_proj = nn.Linear(self.hidden_size, self.intermediate_size, bias=False)\n",
    "        self.up_proj = nn.Linear(self.hidden_size, self.intermediate_size, bias=False)\n",
    "        self.down_proj = nn.Linear(self.intermediate_size, self.hidden_size, bias=False)\n",
    "        self.act_fn = ACT2FN[config.hidden_act]\n",
    "\n",
    "    def forward(self, hidden_state):\n",
    "        print(\"Qwen2MLPV2\")\n",
    "        \n",
    "        return self.down_proj(self.act_fn(self.gate_proj(hidden_state)) * self.up_proj(hidden_state))\n",
    "    \n",
    "from transformers.models.qwen2 import modeling_qwen2\n",
    "modeling_qwen2.Qwen2MLP = Qwen2MLPV2"
   ],
   "metadata": {
    "collapsed": false,
    "ExecuteTime": {
     "end_time": "2024-09-10T10:48:07.644669200Z",
     "start_time": "2024-09-10T10:48:07.638669Z"
    }
   },
   "id": "750e3c1d9c8fa9e5"
  },
  {
   "cell_type": "code",
   "execution_count": 16,
   "outputs": [
    {
     "name": "stdout",
     "output_type": "stream",
     "text": [
      "ok\n"
     ]
    }
   ],
   "source": [
    "import torch\n",
    "from transformers import AutoModelForCausalLM, AutoTokenizer\n",
    "from transformers.models.qwen2.modeling_qwen2 import Qwen2ForCausalLM\n",
    "\n",
    "device = \"cuda:0\"\n",
    "\n",
    "model_name_or_path = r\"E:\\playground\\ai\\models\\Qwen1.5-1.8B-Chat\"\n",
    "\n",
    "tokenizer = AutoTokenizer.from_pretrained(model_name_or_path)\n",
    "model = Qwen2ForCausalLM.from_pretrained(\n",
    "    model_name_or_path,\n",
    "    device_map=device,\n",
    "    torch_dtype=torch.float32\n",
    ")\n",
    "model.eval()\n",
    "print(\"ok\")"
   ],
   "metadata": {
    "collapsed": true,
    "ExecuteTime": {
     "end_time": "2024-09-10T10:48:13.186459200Z",
     "start_time": "2024-09-10T10:48:07.646670900Z"
    }
   },
   "id": "initial_id"
  },
  {
   "cell_type": "code",
   "execution_count": 17,
   "outputs": [
    {
     "data": {
      "text/plain": "{'input_ids': tensor([[104198, 100057, 100276]], device='cuda:0'), 'attention_mask': tensor([[1, 1, 1]], device='cuda:0')}"
     },
     "execution_count": 17,
     "metadata": {},
     "output_type": "execute_result"
    }
   ],
   "source": [
    "text_list = [\"我是秋晨\"]\n",
    "\n",
    "tokenizer.padding_side = \"left\"\n",
    "input_001 = tokenizer(\n",
    "    text_list, return_tensors=\"pt\", padding=\"longest\", truncation=True\n",
    ").to(device)\n",
    "\n",
    "input_001"
   ],
   "metadata": {
    "collapsed": false,
    "ExecuteTime": {
     "end_time": "2024-09-10T10:48:13.201458500Z",
     "start_time": "2024-09-10T10:48:13.187458700Z"
    }
   },
   "id": "b2ad8e286ae648b2"
  },
  {
   "cell_type": "code",
   "execution_count": 19,
   "outputs": [
    {
     "name": "stdout",
     "output_type": "stream",
     "text": [
      "Qwen2MLPV2\n",
      "Qwen2MLPV2\n",
      "Qwen2MLPV2\n",
      "Qwen2MLPV2\n",
      "Qwen2MLPV2\n",
      "Qwen2MLPV2\n",
      "Qwen2MLPV2\n",
      "Qwen2MLPV2\n",
      "Qwen2MLPV2\n",
      "Qwen2MLPV2\n",
      "Qwen2MLPV2\n",
      "Qwen2MLPV2\n",
      "Qwen2MLPV2\n",
      "Qwen2MLPV2\n",
      "Qwen2MLPV2\n",
      "Qwen2MLPV2\n",
      "Qwen2MLPV2\n",
      "Qwen2MLPV2\n",
      "Qwen2MLPV2\n",
      "Qwen2MLPV2\n",
      "Qwen2MLPV2\n",
      "Qwen2MLPV2\n",
      "Qwen2MLPV2\n",
      "Qwen2MLPV2\n"
     ]
    },
    {
     "data": {
      "text/plain": "odict_keys(['logits', 'past_key_values'])"
     },
     "execution_count": 19,
     "metadata": {},
     "output_type": "execute_result"
    }
   ],
   "source": [
    "model_output_001 = model(**input_001)\n",
    "# print(model_output_001)\n",
    "model_output_001.keys()"
   ],
   "metadata": {
    "collapsed": false,
    "ExecuteTime": {
     "end_time": "2024-09-10T11:03:28.869729Z",
     "start_time": "2024-09-10T11:03:28.751595Z"
    }
   },
   "id": "905b9357a7cc78c8"
  },
  {
   "cell_type": "markdown",
   "source": [
    "## 原理\n",
    "- modeling_qwen2.Qwen2MLP，默认加载的是模型的原始MLP层\n",
    "- modeling_qwen2.Qwen2MLP = Qwen2MLPV2，替换新的MLP层\n",
    "- 这是一种组合的模式，将机器中的零件替换成新的零件\n",
    "- 只要是组合的模式，都可以实行这种替换"
   ],
   "metadata": {
    "collapsed": false
   },
   "id": "683176c6371fbbaa"
  },
  {
   "cell_type": "code",
   "execution_count": null,
   "outputs": [],
   "source": [
    "# 定义一个原始类\n",
    "class OriginalClass:\n",
    "    def __init__(self):\n",
    "        self.value = \"Original\"\n",
    "\n",
    "\n",
    "# 定义一个替换类\n",
    "class ReplacementClass:\n",
    "    def __init__(self):\n",
    "        self.value = \"Replacement\"\n",
    "\n",
    "\n",
    "# 创建一个模块\n",
    "class MyModule:\n",
    "    MyClass = OriginalClass\n",
    "\n",
    "\n",
    "# 替换模块中的类\n",
    "MyModule.MyClass = ReplacementClass\n",
    "\n",
    "# 使用模块中的类\n",
    "instance = MyModule.MyClass()\n",
    "print(instance.value)  # 输出: Replacement"
   ],
   "metadata": {
    "collapsed": false
   },
   "id": "e838ae079aa42d87"
  },
  {
   "cell_type": "markdown",
   "source": [
    "## 升级版"
   ],
   "metadata": {
    "collapsed": false
   },
   "id": "ab6b46ed939ec105"
  },
  {
   "cell_type": "code",
   "execution_count": 5,
   "outputs": [],
   "source": [
    "from v1 import Qwen2MLPV2\n",
    "from v2 import Qwen2MLPV3\n",
    "\n",
    "def modify_mlp(type_: str) -> None:\n",
    "    from transformers.models.qwen2 import modeling_qwen2\n",
    "    \n",
    "    if type_ == \"v2\":\n",
    "        modeling_qwen2.Qwen2MLP = Qwen2MLPV2\n",
    "        \n",
    "    if type_ == 'v3':\n",
    "        modeling_qwen2.Qwen2MLP = Qwen2MLPV3\n",
    "        \n",
    "    else:\n",
    "        pass\n",
    "    \n",
    "modify_mlp(type_=\"v3\")"
   ],
   "metadata": {
    "collapsed": false,
    "ExecuteTime": {
     "end_time": "2024-09-10T11:50:35.336448200Z",
     "start_time": "2024-09-10T11:50:35.327454300Z"
    }
   },
   "id": "2b9be657a9c5b4b0"
  },
  {
   "cell_type": "code",
   "execution_count": 6,
   "outputs": [
    {
     "name": "stdout",
     "output_type": "stream",
     "text": [
      "ok\n"
     ]
    }
   ],
   "source": [
    "import torch\n",
    "from transformers import AutoModelForCausalLM, AutoTokenizer\n",
    "from transformers.models.qwen2.modeling_qwen2 import Qwen2ForCausalLM\n",
    "\n",
    "device = \"cuda:0\"\n",
    "\n",
    "model_name_or_path = r\"E:\\playground\\ai\\models\\Qwen1.5-1.8B-Chat\"\n",
    "\n",
    "tokenizer = AutoTokenizer.from_pretrained(model_name_or_path)\n",
    "model = Qwen2ForCausalLM.from_pretrained(\n",
    "    model_name_or_path,\n",
    "    device_map=device,\n",
    "    torch_dtype=torch.float32\n",
    ")\n",
    "model.eval()\n",
    "print(\"ok\")"
   ],
   "metadata": {
    "collapsed": false,
    "ExecuteTime": {
     "end_time": "2024-09-10T11:50:41.412040900Z",
     "start_time": "2024-09-10T11:50:36.943358200Z"
    }
   },
   "id": "66175623452343b6"
  },
  {
   "cell_type": "code",
   "execution_count": 7,
   "outputs": [],
   "source": [
    "text_list = [\"我是秋晨\"]\n",
    "\n",
    "tokenizer.padding_side = \"left\"\n",
    "input_001 = tokenizer(\n",
    "    text_list, return_tensors=\"pt\", padding=\"longest\", truncation=True\n",
    ").to(device)"
   ],
   "metadata": {
    "collapsed": false,
    "ExecuteTime": {
     "end_time": "2024-09-10T11:50:41.437023300Z",
     "start_time": "2024-09-10T11:50:41.414039200Z"
    }
   },
   "id": "3e8fc5381c3e48a7"
  },
  {
   "cell_type": "code",
   "execution_count": 8,
   "outputs": [
    {
     "name": "stdout",
     "output_type": "stream",
     "text": [
      "Qwen2MLPV3\n",
      "Qwen2MLPV3\n",
      "Qwen2MLPV3\n",
      "Qwen2MLPV3\n",
      "Qwen2MLPV3\n",
      "Qwen2MLPV3\n",
      "Qwen2MLPV3\n",
      "Qwen2MLPV3\n",
      "Qwen2MLPV3\n",
      "Qwen2MLPV3\n",
      "Qwen2MLPV3\n",
      "Qwen2MLPV3\n",
      "Qwen2MLPV3\n",
      "Qwen2MLPV3\n",
      "Qwen2MLPV3\n",
      "Qwen2MLPV3\n",
      "Qwen2MLPV3\n",
      "Qwen2MLPV3\n",
      "Qwen2MLPV3\n",
      "Qwen2MLPV3\n",
      "Qwen2MLPV3\n",
      "Qwen2MLPV3\n",
      "Qwen2MLPV3\n",
      "Qwen2MLPV3\n"
     ]
    },
    {
     "data": {
      "text/plain": "odict_keys(['logits', 'past_key_values'])"
     },
     "execution_count": 8,
     "metadata": {},
     "output_type": "execute_result"
    }
   ],
   "source": [
    "model_output_001 = model(**input_001)\n",
    "# print(model_output_001)\n",
    "model_output_001.keys()"
   ],
   "metadata": {
    "collapsed": false,
    "ExecuteTime": {
     "end_time": "2024-09-10T11:50:41.513807900Z",
     "start_time": "2024-09-10T11:50:41.428027300Z"
    }
   },
   "id": "ea2429310688d1cc"
  },
  {
   "cell_type": "code",
   "execution_count": null,
   "outputs": [],
   "source": [],
   "metadata": {
    "collapsed": false
   },
   "id": "52d24b2a97d53dcb"
  }
 ],
 "metadata": {
  "kernelspec": {
   "display_name": "Python 3",
   "language": "python",
   "name": "python3"
  },
  "language_info": {
   "codemirror_mode": {
    "name": "ipython",
    "version": 2
   },
   "file_extension": ".py",
   "mimetype": "text/x-python",
   "name": "python",
   "nbconvert_exporter": "python",
   "pygments_lexer": "ipython2",
   "version": "2.7.6"
  }
 },
 "nbformat": 4,
 "nbformat_minor": 5
}
